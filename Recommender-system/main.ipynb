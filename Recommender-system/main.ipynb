{
 "cells": [
  {
   "cell_type": "code",
   "execution_count": 5,
   "metadata": {},
   "outputs": [
    {
     "name": "stdout",
     "output_type": "stream",
     "text": [
      "File location: /workspaces/Machine-Learning-Model/Recommender-system\n",
      "Files containing the specified file:\n"
     ]
    }
   ],
   "source": [
    "from __future__ import print_function\n",
    "import numpy as np\n",
    "import pandas as pd\n",
    "import os\n",
    "\n",
    "file_path = '/workspaces/Machine-Learning-Model/Recommender-system/main.ipynb'\n",
    "file_location = os.path.dirname(file_path)\n",
    "\n",
    "print('File location:', file_location)\n",
    "# BEGIN: Check other files in the folder\n",
    "folder_path = os.path.dirname(file_path)\n",
    "files_in_folder = os.listdir(folder_path)\n",
    "\n",
    "files_containing_file = [file for file in files_in_folder if file_path in file]\n",
    "\n",
    "print('Files containing the specified file:')\n",
    "for file in files_containing_file:\n",
    "    print(file)\n",
    "# END: Check other files in the folder\n"
   ]
  },
  {
   "cell_type": "code",
   "execution_count": 7,
   "metadata": {},
   "outputs": [
    {
     "name": "stdout",
     "output_type": "stream",
     "text": [
      "Number of users: 943\n",
      "Number of traing rates: 90570\n",
      "Number of test rates: 9430\n"
     ]
    }
   ],
   "source": [
    "\n",
    "u_cols = ['user', 'age', 'sex, occupation', 'zip_code']\n",
    "users = pd.read_csv('/workspaces/Machine-Learning-Model/Recommender-system/Data/ml-100k/u.user', sep='|', names=u_cols, encoding='latin-1')\n",
    "n_users = users.shape[0]\n",
    "print('Number of users:', n_users)\n",
    "\n",
    "r_cols = ['user_id', 'movie_id', 'rating', 'unix_timestamp']\n",
    "ratings_base = pd.read_csv('/workspaces/Machine-Learning-Model/Recommender-system/Data/ml-100k/ub.base', sep='\\t', names=r_cols, encoding='latin-1')\n",
    "ratings_test = pd.read_csv('/workspaces/Machine-Learning-Model/Recommender-system/Data/ml-100k/ub.test', sep='\\t', names=r_cols, encoding='latin-1')\n",
    "\n",
    "rate_train = ratings_base.values\n",
    "rate_test = ratings_test.values\n",
    "\n",
    "print('Number of traing rates:', rate_train.shape[0])\n",
    "print('Number of test rates:', rate_test.shape[0])"
   ]
  },
  {
   "cell_type": "code",
   "execution_count": 8,
   "metadata": {},
   "outputs": [
    {
     "name": "stdout",
     "output_type": "stream",
     "text": [
      "Number of items: 1682\n"
     ]
    }
   ],
   "source": [
    "i_cols = ['movie id', 'movie title' ,'release date','video release date', 'IMDb URL', 'unknown', 'Action', 'Adventure','Animation', 'Childrens', 'Comedy', 'Crime', 'Documentary', 'Drama', 'Fantasy','Film-Noir', 'Horror', 'Musical', 'Mystery', 'Romance', 'Sci-Fi', 'Thriller', 'War', 'Western']\n",
    "\n",
    "items = pd.read_csv('/workspaces/Machine-Learning-Model/Recommender-system/Data/ml-100k/u.item', sep='|', names=i_cols, encoding='latin-1')\n",
    "\n",
    "X0 = items.values\n",
    "X_train_counts = X0[:, -19:]\n",
    "\n",
    "n_items = items.shape[0]\n",
    "print('Number of items:', n_items)\n",
    "\n"
   ]
  },
  {
   "cell_type": "code",
   "execution_count": 9,
   "metadata": {},
   "outputs": [
    {
     "name": "stdout",
     "output_type": "stream",
     "text": [
      "[[        1         1         5 874965758]\n",
      " [        1         2         3 876893171]\n",
      " [        1         3         4 878542960]\n",
      " [        1         4         3 876893119]\n",
      " [        1         5         3 889751712]]\n"
     ]
    }
   ],
   "source": [
    "print(rate_train[:5, :])"
   ]
  },
  {
   "cell_type": "code",
   "execution_count": 11,
   "metadata": {},
   "outputs": [
    {
     "name": "stdout",
     "output_type": "stream",
     "text": [
      "[[0.         0.         0.         0.74066017 0.57387209 0.34941857\n",
      "  0.         0.         0.         0.         0.         0.\n",
      "  0.         0.         0.         0.         0.         0.\n",
      "  0.        ]\n",
      " [0.         0.53676706 0.65097024 0.         0.         0.\n",
      "  0.         0.         0.         0.         0.         0.\n",
      "  0.         0.         0.         0.         0.53676706 0.\n",
      "  0.        ]\n",
      " [0.         0.         0.         0.         0.         0.\n",
      "  0.         0.         0.         0.         0.         0.\n",
      "  0.         0.         0.         0.         1.         0.\n",
      "  0.        ]\n",
      " [0.         0.71065158 0.         0.         0.         0.5397592\n",
      "  0.         0.         0.45125862 0.         0.         0.\n",
      "  0.         0.         0.         0.         0.         0.\n",
      "  0.        ]\n",
      " [0.         0.         0.         0.         0.         0.\n",
      "  0.735504   0.         0.36318585 0.         0.         0.\n",
      "  0.         0.         0.         0.         0.57195272 0.\n",
      "  0.        ]]\n"
     ]
    }
   ],
   "source": [
    "from sklearn.feature_extraction.text import TfidfTransformer\n",
    "transformer = TfidfTransformer(smooth_idf=True, norm='l2')\n",
    "X = transformer.fit_transform(X_train_counts.tolist()).toarray()\n",
    "print(X[:5, :])"
   ]
  },
  {
   "cell_type": "code",
   "execution_count": 12,
   "metadata": {},
   "outputs": [],
   "source": [
    "def get_items_rated_by_user(rate_matrix, user_id):\n",
    "    \"\"\"\n",
    "    return (item_ids, scores)\n",
    "    \"\"\"\n",
    "    y = rate_matrix[:,0] # all users\n",
    "    # item indices rated by user_id\n",
    "    # we need to +1 to user_id since in the rate_matrix, id starts from 1\n",
    "    # while index in python starts from 0\n",
    "    ids = np.where(y == user_id +1)[0]\n",
    "    item_ids = rate_matrix[ids, 1] - 1 # index starts from 0\n",
    "    scores = rate_matrix[ids, 2]\n",
    "    return (item_ids, scores)\n",
    "\n"
   ]
  },
  {
   "cell_type": "code",
   "execution_count": 13,
   "metadata": {},
   "outputs": [],
   "source": [
    "from sklearn.linear_model import Ridge\n",
    "from sklearn import linear_model\n",
    "d = X.shape[1] # data dimension\n",
    "W = np.zeros((d, n_users))\n",
    "b = np.zeros(n_users)\n",
    "for n in range(n_users):\n",
    "    ids, scores = get_items_rated_by_user(rate_train, n)\n",
    "    model = Ridge(alpha=0.01, fit_intercept  = True)\n",
    "    Xhat = X[ids, :]\n",
    "    model.fit(Xhat, scores)\n",
    "    W[:, n] = model.coef_\n",
    "    b[n] = model.intercept_\n"
   ]
  },
  {
   "cell_type": "code",
   "execution_count": 14,
   "metadata": {},
   "outputs": [],
   "source": [
    "Yhat = X.dot(W) + b"
   ]
  },
  {
   "cell_type": "code",
   "execution_count": 18,
   "metadata": {},
   "outputs": [
    {
     "name": "stdout",
     "output_type": "stream",
     "text": [
      "Rate test: [189 229 311 516 560 659 713 719 740 745]\n",
      "Scores: [3 4 4 2 2 3 4 1 5 4]\n",
      "Predictions: [3.47 3.13 4.15 4.16 3.9  4.01 3.83 3.56 3.14 3.31]\n",
      "Error: 1.4449976697815012\n"
     ]
    }
   ],
   "source": [
    "n = 10\n",
    "np.set_printoptions(precision=2) # 2 digits after .\n",
    "ids, scores = get_items_rated_by_user(rate_test, n)\n",
    "print('Rate test:', ids)\n",
    "print('Scores:', scores)\n",
    "print('Predictions:', Yhat[ids, n])\n",
    "print('Error:', np.sqrt(np.mean((Yhat[ids, n] - scores)**2)))"
   ]
  },
  {
   "cell_type": "code",
   "execution_count": 19,
   "metadata": {},
   "outputs": [
    {
     "name": "stdout",
     "output_type": "stream",
     "text": [
      "RMSE for training: 0.9073946349009766\n",
      "RMSE for test    : 1.2532350678563369\n"
     ]
    }
   ],
   "source": [
    "def evaluate(Yhat, rates, W, b):\n",
    "    se = 0\n",
    "    cnt = 0\n",
    "    for n in range(n_users):\n",
    "        ids, scores_truth = get_items_rated_by_user(rates, n)\n",
    "        scores_pred = Yhat[ids, n]\n",
    "        e = scores_truth - scores_pred\n",
    "        se += (e*e).sum(axis = 0)\n",
    "        cnt += e.size\n",
    "    return np.sqrt(se/cnt)\n",
    "print('RMSE for training:', evaluate(Yhat, rate_train, W, b))\n",
    "print('RMSE for test    :', evaluate(Yhat, rate_test, W, b))"
   ]
  },
  {
   "cell_type": "code",
   "execution_count": null,
   "metadata": {},
   "outputs": [],
   "source": []
  }
 ],
 "metadata": {
  "kernelspec": {
   "display_name": "Python 3",
   "language": "python",
   "name": "python3"
  },
  "language_info": {
   "codemirror_mode": {
    "name": "ipython",
    "version": 3
   },
   "file_extension": ".py",
   "mimetype": "text/x-python",
   "name": "python",
   "nbconvert_exporter": "python",
   "pygments_lexer": "ipython3",
   "version": "3.10.13"
  }
 },
 "nbformat": 4,
 "nbformat_minor": 2
}
